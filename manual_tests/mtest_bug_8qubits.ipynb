{
 "cells": [
  {
   "cell_type": "code",
   "execution_count": null,
   "metadata": {},
   "outputs": [],
   "source": [
    "import sys\n",
    "sys.path.append(\"../\")\n",
    "import numpy as np\n",
    "from sanchez_ansatz import SanchezAnsatz\n",
    "from qiskit_aer import Aer\n",
    "from experiments import get_state\n",
    "from experiments.densities import get_probability_freqs\n",
    "from experiments import ExperimentModule\n",
    "from qiskit import transpile\n",
    "from qiskit_algorithms.optimizers import SPSA, COBYLA\n",
    "from scipy.stats import norm\n",
    "import matplotlib.pyplot as plt\n",
    "\n",
    "%matplotlib inline"
   ]
  },
  {
   "cell_type": "code",
   "execution_count": null,
   "metadata": {},
   "outputs": [],
   "source": [
    "num_qubits = 8\n",
    "state_type = \"normal\"\n",
    "state_params = { \"loc\": 0.5 , \"scale\": 0.5, \"x_points\": np.array([0., 1.])}"
   ]
  },
  {
   "cell_type": "markdown",
   "metadata": {},
   "source": [
    "#### Original Method"
   ]
  },
  {
   "cell_type": "code",
   "execution_count": null,
   "metadata": {},
   "outputs": [],
   "source": [
    "\n",
    "x_points = np.linspace(state_params[\"x_points\"][0], state_params[\"x_points\"][1], 2**num_qubits)\n",
    "\n",
    "target_state =  get_state(num_qubits=num_qubits, state_type=state_type, state_params=state_params)\n",
    "#state  = get_state(num_qubits=num_qubits, state_type=state_type, state_params=state_params)\n",
    "#probs = norm.pdf(x_points, loc=state_params[\"loc\"], scale=state_params[\"scale\"])\n",
    "#target_state = probs/np.linalg.norm(probs)\n",
    "\n",
    "computed_eta = 2/state_params[\"scale\"]**2\n",
    "\n",
    "sanchez_ansatz = SanchezAnsatz(target_state, eps=0.05) #eta=computed_eta\n",
    "init_params = sanchez_ansatz.init_params\n",
    "\n",
    "t_sa = transpile(sanchez_ansatz, basis_gates=[\"cx\", \"u\"])\n",
    "\n",
    "em = ExperimentModule(\n",
    "    t_sa,\n",
    "    SPSA(maxiter=3000),\n",
    "    target_state=target_state,\n",
    "    init_params=init_params,\n",
    ")\n",
    "result = em.minimize()"
   ]
  },
  {
   "cell_type": "code",
   "execution_count": null,
   "metadata": {},
   "outputs": [],
   "source": [
    "pt_sa = t_sa.assign_parameters(result.x)\n",
    "sv_sim = Aer.get_backend(\"statevector_simulator\")\n",
    "job = sv_sim.run(pt_sa)\n",
    "job_result = job.result()\n",
    "res_statevector = job_result.get_statevector().data\n",
    "\n",
    "fid = np.abs(res_statevector.conj() @ target_state)**2\n",
    "\n",
    "print(\"Fidelity: \", fid)\n",
    "print(\"Fidloss: \", 1 - fid)\n",
    "print(\"SanchezAnsatz k0: \", sanchez_ansatz.k0)\n",
    "print(\"Computed eta: \", computed_eta)"
   ]
  },
  {
   "cell_type": "code",
   "execution_count": null,
   "metadata": {},
   "outputs": [],
   "source": [
    "print(res_statevector[:5])\n",
    "print(target_state[:5])"
   ]
  },
  {
   "cell_type": "code",
   "execution_count": null,
   "metadata": {},
   "outputs": [],
   "source": [
    "plt.plot(x_points, target_state)\n",
    "plt.plot(x_points, res_statevector)\n",
    "plt.show()"
   ]
  },
  {
   "cell_type": "code",
   "execution_count": null,
   "metadata": {},
   "outputs": [],
   "source": [
    "t_sa.draw(\"mpl\")"
   ]
  },
  {
   "cell_type": "markdown",
   "metadata": {},
   "source": [
    "#### Modified Method"
   ]
  },
  {
   "cell_type": "code",
   "execution_count": null,
   "metadata": {},
   "outputs": [],
   "source": [
    "\n",
    "#x_points = np.linspace(state_params[\"x_points\"][0], state_params[\"x_points\"][1], 2**num_qubits)\n",
    "\n",
    "#target_state =  get_state(num_qubits=num_qubits, state_type=state_type, state_params=state_params)\n",
    "#state  = get_state(num_qubits=num_qubits, state_type=state_type, state_params=state_params)\n",
    "#probs = norm.pdf(x_points, loc=state_params[\"loc\"], scale=state_params[\"scale\"])\n",
    "#target_state = probs/np.linalg.norm(probs)\n",
    "\n",
    "#computed_eta = 2/state_params[\"scale\"]**2\n",
    "\n",
    "sanchez_ansatz = SanchezAnsatz(target_state, eps=0.05, build_modified=True, use_entanglement=True, entanglement_type=\"pairwise\") #eta=computed_eta,\n",
    "init_params = sanchez_ansatz.init_params\n",
    "\n",
    "t_sa = transpile(sanchez_ansatz, basis_gates=[\"cx\", \"u\"])\n",
    "\n",
    "em = ExperimentModule(\n",
    "    t_sa,\n",
    "    SPSA(maxiter=3000),\n",
    "    target_state=target_state,\n",
    "    init_params=init_params,\n",
    ")\n",
    "result = em.minimize()"
   ]
  },
  {
   "cell_type": "code",
   "execution_count": null,
   "metadata": {},
   "outputs": [],
   "source": [
    "pt_sa = t_sa.assign_parameters(result.x)\n",
    "sv_sim = Aer.get_backend(\"statevector_simulator\")\n",
    "job = sv_sim.run(pt_sa)\n",
    "job_result = job.result()\n",
    "res_statevector = job_result.get_statevector().data\n",
    "\n",
    "fid = np.abs(res_statevector.conj() @ target_state)**2\n",
    "\n",
    "print(\"Fidelity: \", fid)\n",
    "print(\"Fidloss: \", 1 - fid)\n",
    "print(\"SanchezAnsatz k0: \", sanchez_ansatz.k0)\n",
    "print(\"Computed eta: \", computed_eta)"
   ]
  },
  {
   "cell_type": "code",
   "execution_count": null,
   "metadata": {},
   "outputs": [],
   "source": [
    "print(res_statevector[:5])\n",
    "print(target_state[:5])"
   ]
  },
  {
   "cell_type": "code",
   "execution_count": null,
   "metadata": {},
   "outputs": [],
   "source": [
    "plt.plot(x_points, target_state)\n",
    "plt.plot(x_points, res_statevector)\n",
    "plt.show()"
   ]
  },
  {
   "cell_type": "code",
   "execution_count": null,
   "metadata": {},
   "outputs": [],
   "source": [
    "t_sa.draw(\"mpl\")"
   ]
  }
 ],
 "metadata": {
  "kernelspec": {
   "display_name": "Sanchez (env)",
   "language": "python",
   "name": "sanchez-env"
  },
  "language_info": {
   "codemirror_mode": {
    "name": "ipython",
    "version": 3
   },
   "file_extension": ".py",
   "mimetype": "text/x-python",
   "name": "python",
   "nbconvert_exporter": "python",
   "pygments_lexer": "ipython3",
   "version": "3.9.6"
  }
 },
 "nbformat": 4,
 "nbformat_minor": 2
}
