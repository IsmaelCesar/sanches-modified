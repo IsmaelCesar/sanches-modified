{
 "cells": [
  {
   "cell_type": "code",
   "execution_count": 1,
   "metadata": {},
   "outputs": [],
   "source": [
    "import copy\n",
    "import re\n",
    "import pandas as pd\n",
    "import numpy as np\n",
    "from experiments import ExperimentModule\n",
    "from experiments import (\n",
    "    save_plots, \n",
    "    write_row, \n",
    "    write_opcounts,\n",
    "    save_circuit,\n",
    "    create_dir,\n",
    "    get_random_state\n",
    ")\n",
    "from sanchez_ansatz import SanchezAnsatz\n",
    "from qiskit import transpile\n",
    "from qiskit_algorithms.optimizers import SPSA\n",
    "import matplotlib.pyplot as plt\n",
    "from itertools import product\n",
    "from datetime import datetime\n",
    "\n",
    "%matplotlib inline"
   ]
  },
  {
   "cell_type": "code",
   "execution_count": 2,
   "metadata": {},
   "outputs": [],
   "source": [
    "results_dir = \"results/runs_shell\"\n",
    "run_range = list(range(1, 11))\n",
    "#qubit_range = [3, 4, 5, 6, 7, 8]\n",
    "qubit_range = [12, 15]\n",
    "\n",
    "# EPS values are mapped separately\n",
    "#eps_values = [0.5, 0.1, 0.05, 0.01, 0.005, 0.001]\n",
    "eps_values = [0.5, 0.1, 0.05, 0.01]"
   ]
  },
  {
   "cell_type": "markdown",
   "metadata": {},
   "source": [
    "### Random State type"
   ]
  },
  {
   "cell_type": "markdown",
   "metadata": {},
   "source": [
    "Creating pandas dataframe\n",
    "\n",
    "Creating result dictionaries"
   ]
  },
  {
   "cell_type": "code",
   "execution_count": 51,
   "metadata": {},
   "outputs": [],
   "source": [
    "state_type = \"laplace\""
   ]
  },
  {
   "cell_type": "code",
   "execution_count": 52,
   "metadata": {},
   "outputs": [],
   "source": [
    "#[0.5, 0.1, 0.05, 0.01, 0.005, 0.001]\n",
    "original_results_dict = {\n",
    "    \"num_qubits\": [],\n",
    "    0.5: [],\n",
    "    0.1: [],\n",
    "    0.05: [],\n",
    "    0.01: [],\n",
    "}\n",
    "\n",
    "modified_results_dict = copy.deepcopy(original_results_dict)\n",
    "\n",
    "for (r_dir, st_typse, num_qubits, eps) in product([results_dir], [state_type], qubit_range, eps_values):\n",
    "    if not num_qubits in original_results_dict[\"num_qubits\"]: \n",
    "        original_results_dict[\"num_qubits\"] += [num_qubits]\n",
    "        modified_results_dict[\"num_qubits\"] += [num_qubits]\n",
    "\n",
    "    original_results_dict[eps] += [[]]\n",
    "    modified_results_dict[eps] += [[]]\n",
    "\n",
    "    for run_idx in run_range:\n",
    "        fid_loss_original = np.loadtxt(f\"{results_dir}/{st_type}/run_{run_idx}/csv/original_fidloss_{num_qubits}qb_{eps}eps.csv\", delimiter=\",\")\n",
    "        data_original = fid_loss_original[-1][-1] if len(fid_loss_original.shape) > 1 else fid_loss_original[-1]\n",
    "        original_results_dict[eps][-1] += [data_original.round(4)]\n",
    "\n",
    "        fid_loss_modified = np.loadtxt(f\"{results_dir}/{st_type}/run_{run_idx}/csv/modified_fidloss_{num_qubits}qb_{eps}eps.csv\", delimiter=\",\")\n",
    "        data_modified = fid_loss_modified[-1][-1] if len(fid_loss_modified.shape) > 1 else fid_loss_modified[-1]\n",
    "        modified_results_dict[eps][-1]+= [data_modified.round(4)]"
   ]
  },
  {
   "cell_type": "code",
   "execution_count": 53,
   "metadata": {},
   "outputs": [],
   "source": [
    "default_dict = {\n",
    "    \"num_qubits\": qubit_range,\n",
    "    0.5: [],\n",
    "    0.1: [],\n",
    "    0.05: [],\n",
    "    0.01: [],\n",
    "}\n",
    "mean_original_results_dict = copy.deepcopy(default_dict)\n",
    "mean_modified_results_dict = copy.deepcopy(default_dict)\n",
    "\n",
    "stds_original_results_dict = copy.deepcopy(default_dict)\n",
    "stds_modified_results_dict = copy.deepcopy(default_dict)\n",
    "\n",
    "for eps in eps_values:\n",
    "    mean_original_results_dict[eps] = np.mean(original_results_dict[eps], axis=1)\n",
    "    stds_original_results_dict[eps] = np.std(original_results_dict[eps], axis=1).round(2)\n",
    "\n",
    "    mean_modified_results_dict[eps] = np.mean(modified_results_dict[eps], axis=1)\n",
    "    stds_modified_results_dict[eps] = np.std(modified_results_dict[eps], axis=1).round(2)"
   ]
  },
  {
   "cell_type": "markdown",
   "metadata": {},
   "source": [
    "Original fidloss"
   ]
  },
  {
   "cell_type": "code",
   "execution_count": 54,
   "metadata": {},
   "outputs": [
    {
     "data": {
      "text/html": [
       "<div>\n",
       "<style scoped>\n",
       "    .dataframe tbody tr th:only-of-type {\n",
       "        vertical-align: middle;\n",
       "    }\n",
       "\n",
       "    .dataframe tbody tr th {\n",
       "        vertical-align: top;\n",
       "    }\n",
       "\n",
       "    .dataframe thead th {\n",
       "        text-align: right;\n",
       "    }\n",
       "</style>\n",
       "<table border=\"1\" class=\"dataframe\">\n",
       "  <thead>\n",
       "    <tr style=\"text-align: right;\">\n",
       "      <th></th>\n",
       "      <th>0.5</th>\n",
       "      <th>0.1</th>\n",
       "      <th>0.05</th>\n",
       "      <th>0.01</th>\n",
       "    </tr>\n",
       "    <tr>\n",
       "      <th>num_qubits</th>\n",
       "      <th></th>\n",
       "      <th></th>\n",
       "      <th></th>\n",
       "      <th></th>\n",
       "    </tr>\n",
       "  </thead>\n",
       "  <tbody>\n",
       "    <tr>\n",
       "      <th>12</th>\n",
       "      <td>0.99474</td>\n",
       "      <td>0.99998</td>\n",
       "      <td>0.99393</td>\n",
       "      <td>0.98003</td>\n",
       "    </tr>\n",
       "    <tr>\n",
       "      <th>15</th>\n",
       "      <td>0.02551</td>\n",
       "      <td>0.12431</td>\n",
       "      <td>0.07719</td>\n",
       "      <td>0.19657</td>\n",
       "    </tr>\n",
       "  </tbody>\n",
       "</table>\n",
       "</div>"
      ],
      "text/plain": [
       "                0.5      0.1     0.05     0.01\n",
       "num_qubits                                    \n",
       "12          0.99474  0.99998  0.99393  0.98003\n",
       "15          0.02551  0.12431  0.07719  0.19657"
      ]
     },
     "metadata": {},
     "output_type": "display_data"
    },
    {
     "data": {
      "text/html": [
       "<div>\n",
       "<style scoped>\n",
       "    .dataframe tbody tr th:only-of-type {\n",
       "        vertical-align: middle;\n",
       "    }\n",
       "\n",
       "    .dataframe tbody tr th {\n",
       "        vertical-align: top;\n",
       "    }\n",
       "\n",
       "    .dataframe thead th {\n",
       "        text-align: right;\n",
       "    }\n",
       "</style>\n",
       "<table border=\"1\" class=\"dataframe\">\n",
       "  <thead>\n",
       "    <tr style=\"text-align: right;\">\n",
       "      <th></th>\n",
       "      <th>0.5</th>\n",
       "      <th>0.1</th>\n",
       "      <th>0.05</th>\n",
       "      <th>0.01</th>\n",
       "    </tr>\n",
       "    <tr>\n",
       "      <th>num_qubits</th>\n",
       "      <th></th>\n",
       "      <th></th>\n",
       "      <th></th>\n",
       "      <th></th>\n",
       "    </tr>\n",
       "  </thead>\n",
       "  <tbody>\n",
       "    <tr>\n",
       "      <th>12</th>\n",
       "      <td>0.02</td>\n",
       "      <td>0.00</td>\n",
       "      <td>0.02</td>\n",
       "      <td>0.03</td>\n",
       "    </tr>\n",
       "    <tr>\n",
       "      <th>15</th>\n",
       "      <td>0.02</td>\n",
       "      <td>0.29</td>\n",
       "      <td>0.09</td>\n",
       "      <td>0.06</td>\n",
       "    </tr>\n",
       "  </tbody>\n",
       "</table>\n",
       "</div>"
      ],
      "text/plain": [
       "             0.5   0.1  0.05  0.01\n",
       "num_qubits                        \n",
       "12          0.02  0.00  0.02  0.03\n",
       "15          0.02  0.29  0.09  0.06"
      ]
     },
     "execution_count": 54,
     "metadata": {},
     "output_type": "execute_result"
    }
   ],
   "source": [
    "df_mean_original = pd.DataFrame(mean_original_results_dict)\n",
    "df_mean_original = df_mean_original.set_index(\"num_qubits\")\n",
    "display(df_mean_original)\n",
    "\n",
    "df_stds_original = pd.DataFrame(stds_original_results_dict)\n",
    "df_stds_original = df_stds_original.set_index(\"num_qubits\")\n",
    "df_stds_original"
   ]
  },
  {
   "cell_type": "code",
   "execution_count": 55,
   "metadata": {},
   "outputs": [
    {
     "name": "stdout",
     "output_type": "stream",
     "text": [
      "\\begin{tabular}{lrrrr}\n",
      "\\toprule\n",
      " & 0.500000 & 0.100000 & 0.050000 & 0.010000 \\\\\n",
      "num_qubits &  &  &  &  \\\\\n",
      "\\midrule\n",
      "12 & 0.9947 & 1.0000 & 0.9939 & 0.9800 \\\\\n",
      "15 & 0.0255 & 0.1243 & 0.0772 & 0.1966 \\\\\n",
      "\\bottomrule\n",
      "\\end{tabular}\n",
      "\n"
     ]
    }
   ],
   "source": [
    "print(df_mean_original.to_latex(float_format=\"%.4f\"))"
   ]
  },
  {
   "cell_type": "markdown",
   "metadata": {},
   "source": [
    "Modified fidloss"
   ]
  },
  {
   "cell_type": "code",
   "execution_count": 56,
   "metadata": {},
   "outputs": [
    {
     "data": {
      "text/html": [
       "<div>\n",
       "<style scoped>\n",
       "    .dataframe tbody tr th:only-of-type {\n",
       "        vertical-align: middle;\n",
       "    }\n",
       "\n",
       "    .dataframe tbody tr th {\n",
       "        vertical-align: top;\n",
       "    }\n",
       "\n",
       "    .dataframe thead th {\n",
       "        text-align: right;\n",
       "    }\n",
       "</style>\n",
       "<table border=\"1\" class=\"dataframe\">\n",
       "  <thead>\n",
       "    <tr style=\"text-align: right;\">\n",
       "      <th></th>\n",
       "      <th>0.5</th>\n",
       "      <th>0.1</th>\n",
       "      <th>0.05</th>\n",
       "      <th>0.01</th>\n",
       "    </tr>\n",
       "    <tr>\n",
       "      <th>num_qubits</th>\n",
       "      <th></th>\n",
       "      <th></th>\n",
       "      <th></th>\n",
       "      <th></th>\n",
       "    </tr>\n",
       "  </thead>\n",
       "  <tbody>\n",
       "    <tr>\n",
       "      <th>12</th>\n",
       "      <td>1.00000</td>\n",
       "      <td>0.96634</td>\n",
       "      <td>0.02676</td>\n",
       "      <td>0.18096</td>\n",
       "    </tr>\n",
       "    <tr>\n",
       "      <th>15</th>\n",
       "      <td>0.30847</td>\n",
       "      <td>0.01210</td>\n",
       "      <td>0.01191</td>\n",
       "      <td>0.13427</td>\n",
       "    </tr>\n",
       "  </tbody>\n",
       "</table>\n",
       "</div>"
      ],
      "text/plain": [
       "                0.5      0.1     0.05     0.01\n",
       "num_qubits                                    \n",
       "12          1.00000  0.96634  0.02676  0.18096\n",
       "15          0.30847  0.01210  0.01191  0.13427"
      ]
     },
     "metadata": {},
     "output_type": "display_data"
    },
    {
     "data": {
      "text/html": [
       "<div>\n",
       "<style scoped>\n",
       "    .dataframe tbody tr th:only-of-type {\n",
       "        vertical-align: middle;\n",
       "    }\n",
       "\n",
       "    .dataframe tbody tr th {\n",
       "        vertical-align: top;\n",
       "    }\n",
       "\n",
       "    .dataframe thead th {\n",
       "        text-align: right;\n",
       "    }\n",
       "</style>\n",
       "<table border=\"1\" class=\"dataframe\">\n",
       "  <thead>\n",
       "    <tr style=\"text-align: right;\">\n",
       "      <th></th>\n",
       "      <th>0.5</th>\n",
       "      <th>0.1</th>\n",
       "      <th>0.05</th>\n",
       "      <th>0.01</th>\n",
       "    </tr>\n",
       "    <tr>\n",
       "      <th>num_qubits</th>\n",
       "      <th></th>\n",
       "      <th></th>\n",
       "      <th></th>\n",
       "      <th></th>\n",
       "    </tr>\n",
       "  </thead>\n",
       "  <tbody>\n",
       "    <tr>\n",
       "      <th>12</th>\n",
       "      <td>0.00</td>\n",
       "      <td>0.05</td>\n",
       "      <td>0.03</td>\n",
       "      <td>0.34</td>\n",
       "    </tr>\n",
       "    <tr>\n",
       "      <th>15</th>\n",
       "      <td>0.45</td>\n",
       "      <td>0.00</td>\n",
       "      <td>0.00</td>\n",
       "      <td>0.28</td>\n",
       "    </tr>\n",
       "  </tbody>\n",
       "</table>\n",
       "</div>"
      ],
      "text/plain": [
       "             0.5   0.1  0.05  0.01\n",
       "num_qubits                        \n",
       "12          0.00  0.05  0.03  0.34\n",
       "15          0.45  0.00  0.00  0.28"
      ]
     },
     "execution_count": 56,
     "metadata": {},
     "output_type": "execute_result"
    }
   ],
   "source": [
    "df_mean_modified = pd.DataFrame(mean_modified_results_dict)\n",
    "df_mean_modified = df_mean_modified.set_index(\"num_qubits\")\n",
    "display(df_mean_modified)\n",
    "\n",
    "df_stds_modified = pd.DataFrame(stds_modified_results_dict)\n",
    "df_stds_modified = df_stds_modified.set_index(\"num_qubits\")\n",
    "df_stds_modified"
   ]
  },
  {
   "cell_type": "code",
   "execution_count": 57,
   "metadata": {},
   "outputs": [
    {
     "name": "stdout",
     "output_type": "stream",
     "text": [
      "\\begin{tabular}{lrrrr}\n",
      "\\toprule\n",
      " & 0.500000 & 0.100000 & 0.050000 & 0.010000 \\\\\n",
      "num_qubits &  &  &  &  \\\\\n",
      "\\midrule\n",
      "12 & 1.0000 & 0.9663 & 0.0268 & 0.1810 \\\\\n",
      "15 & 0.3085 & 0.0121 & 0.0119 & 0.1343 \\\\\n",
      "\\bottomrule\n",
      "\\end{tabular}\n",
      "\n"
     ]
    }
   ],
   "source": [
    "print(df_mean_modified.to_latex(float_format=\"%.4f\"))"
   ]
  },
  {
   "cell_type": "markdown",
   "metadata": {},
   "source": [
    "Counting depth"
   ]
  },
  {
   "cell_type": "code",
   "execution_count": 58,
   "metadata": {},
   "outputs": [],
   "source": [
    "depth_count_original = []\n",
    "depth_count_modified = []\n",
    "\n",
    "for qb_idx, num_qubits in enumerate(qubit_range):\n",
    "    depth_count_original += [[]]\n",
    "    depth_count_modified += [[]]\n",
    "\n",
    "    for eps in eps_values:\n",
    "        #circuit = load_circuit(f\"results/circuits/curcuit_{num_qubits}qb_{eps}eps.pkl\")\n",
    "        state = get_random_state(num_qubits)\n",
    "\n",
    "        # original\n",
    "        ansatz = SanchezAnsatz(state, eps)\n",
    "        to_ansatz = transpile(ansatz, basis_gates=[\"cx\", \"u\"])\n",
    "        depth_count_original[qb_idx] += [to_ansatz.depth()]\n",
    "\n",
    "        # modified\n",
    "        mod_ansatz = SanchezAnsatz(state, eps, build_modified=True)\n",
    "        tm_ansatz = transpile(mod_ansatz, basis_gates=[\"cx\", \"u\"])\n",
    "        depth_count_modified[qb_idx] += [tm_ansatz.depth()]\n"
   ]
  },
  {
   "cell_type": "code",
   "execution_count": 59,
   "metadata": {},
   "outputs": [
    {
     "data": {
      "text/plain": [
       "[]"
      ]
     },
     "execution_count": 59,
     "metadata": {},
     "output_type": "execute_result"
    },
    {
     "data": {
      "image/png": "[encoded data removed]",
      "text/plain": [
       "<Figure size 640x480 with 1 Axes>"
      ]
     },
     "metadata": {},
     "output_type": "display_data"
    }
   ],
   "source": [
    "mean_depth_original = np.mean(depth_count_original, axis=1, dtype=np.int32)\n",
    "mean_depth_modified = np.mean(depth_count_modified, axis=1, dtype=np.int32)\n",
    "\n",
    "plt.plot(qubit_range, mean_depth_original, \"--\", marker=\"o\", label='original')\n",
    "plt.plot(qubit_range, mean_depth_modified, \"-.\", marker=\"+\", label=\"modified\")\n",
    "plt.xlabel(\"num qubits\")\n",
    "plt.ylabel(\"Circuit Depth\")\n",
    "plt.legend(loc=\"best\")\n",
    "plt.plot()\n",
    "#plt.savefig(f\"{results_dir}/mean_circuit_depth.pdf\")"
   ]
  }
 ],
 "metadata": {
  "kernelspec": {
   "display_name": "Sanchez (env)",
   "language": "python",
   "name": "sanches-env"
  },
  "language_info": {
   "codemirror_mode": {
    "name": "ipython",
    "version": 3
   },
   "file_extension": ".py",
   "mimetype": "text/x-python",
   "name": "python",
   "nbconvert_exporter": "python",
   "pygments_lexer": "ipython3",
   "version": "3.9.0"
  },
  "orig_nbformat": 4
 },
 "nbformat": 4,
 "nbformat_minor": 2
}
