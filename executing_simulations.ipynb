{
 "cells": [
  {
   "cell_type": "code",
   "execution_count": 1,
   "metadata": {},
   "outputs": [],
   "source": [
    "import copy\n",
    "import re\n",
    "import pandas as pd\n",
    "import numpy as np\n",
    "from experiments import ExperimentModule\n",
    "from experiments import (\n",
    "    save_plots, \n",
    "    write_row, \n",
    "    write_opcounts,\n",
    "    save_circuit,\n",
    "    create_dir,\n",
    "    get_random_state\n",
    ")\n",
    "from sanchez_ansatz import SanchezAnsatz\n",
    "from qiskit import transpile\n",
    "from qiskit_algorithms.optimizers import SPSA\n",
    "import matplotlib.pyplot as plt\n",
    "from itertools import product\n",
    "from datetime import datetime\n",
    "\n",
    "%matplotlib inline"
   ]
  },
  {
   "cell_type": "code",
   "execution_count": 2,
   "metadata": {},
   "outputs": [],
   "source": [
    "datetime_str = str(datetime.now())\n",
    "datetime_list = re.findall(r\"\\d+\", datetime_str)\n",
    "datetime_digits = \"\".join(datetime_list)\n",
    "\n",
    "results_dir = f\"results/{datetime_digits}\"\n",
    "create_dir(results_dir)\n",
    "\n",
    "# Creating subdirectories\n",
    "create_dir(f\"{results_dir}/plots\")\n",
    "create_dir(f\"{results_dir}/csv\")\n",
    "create_dir(f\"{results_dir}/op_counts\")\n",
    "create_dir(f\"{results_dir}/circuits\")"
   ]
  },
  {
   "cell_type": "code",
   "execution_count": 3,
   "metadata": {},
   "outputs": [],
   "source": [
    "qubit_range = [3, 4, 5, 6, 7, 8]\n",
    "eps_values = [0.5, 0.1, 0.05, 0.01, 0.005, 0.001]"
   ]
  },
  {
   "cell_type": "code",
   "execution_count": 4,
   "metadata": {},
   "outputs": [
    {
     "name": "stdout",
     "output_type": "stream",
     "text": [
      "----------------------------------------------------------------------------------------------------\n",
      "\t\t Experiments for 3 qubits and 0.5 error\n",
      "----------------------------------------------------------------------------------------------------\n",
      "----------------------------------------------------------------------------------------------------\n",
      "\t\t Running ORIGINAL Method\n",
      "----------------------------------------------------------------------------------------------------\n",
      "----------------------------------------------------------------------------------------------------\n",
      "\t\t Running MODIFIED method\n",
      "----------------------------------------------------------------------------------------------------\n"
     ]
    },
    {
     "ename": "FileNotFoundError",
     "evalue": "[Errno 2] No such file or directory: 'results/op_counts/counts_3qb_0.5eps.txt'",
     "output_type": "error",
     "traceback": [
      "\u001b[0;31m---------------------------------------------------------------------------\u001b[0m",
      "\u001b[0;31mFileNotFoundError\u001b[0m                         Traceback (most recent call last)",
      "\u001b[1;32m/home/ismael/Documents/GitRepos/MasterRepos/sanches-modified/executing_simulations.ipynb Cell 4\u001b[0m line \u001b[0;36m5\n\u001b[1;32m     <a href='vscode-notebook-cell://wsl%2Bubuntu/home/ismael/Documents/GitRepos/MasterRepos/sanches-modified/executing_simulations.ipynb#W3sdnNjb2RlLXJlbW90ZQ%3D%3D?line=54'>55</a>\u001b[0m write_row(em_modified\u001b[39m.\u001b[39mresult\u001b[39m.\u001b[39mx, file\u001b[39m=\u001b[39m\u001b[39mf\u001b[39m\u001b[39m\"\u001b[39m\u001b[39m{\u001b[39;00mresults_dir\u001b[39m}\u001b[39;00m\u001b[39m/csv/modified_xbest_\u001b[39m\u001b[39m{\u001b[39;00mnum_qubits\u001b[39m}\u001b[39;00m\u001b[39mqb_\u001b[39m\u001b[39m{\u001b[39;00meps\u001b[39m}\u001b[39;00m\u001b[39meps.csv\u001b[39m\u001b[39m\"\u001b[39m)\n\u001b[1;32m     <a href='vscode-notebook-cell://wsl%2Bubuntu/home/ismael/Documents/GitRepos/MasterRepos/sanches-modified/executing_simulations.ipynb#W3sdnNjb2RlLXJlbW90ZQ%3D%3D?line=56'>57</a>\u001b[0m \u001b[39m# writing op_counts\u001b[39;00m\n\u001b[0;32m---> <a href='vscode-notebook-cell://wsl%2Bubuntu/home/ismael/Documents/GitRepos/MasterRepos/sanches-modified/executing_simulations.ipynb#W3sdnNjb2RlLXJlbW90ZQ%3D%3D?line=57'>58</a>\u001b[0m write_opcounts(em_original, em_modified, file\u001b[39m=\u001b[39;49m\u001b[39mf\u001b[39;49m\u001b[39m\"\u001b[39;49m\u001b[39mresults/op_counts/counts_\u001b[39;49m\u001b[39m{\u001b[39;49;00mnum_qubits\u001b[39m}\u001b[39;49;00m\u001b[39mqb_\u001b[39;49m\u001b[39m{\u001b[39;49;00meps\u001b[39m}\u001b[39;49;00m\u001b[39meps.txt\u001b[39;49m\u001b[39m\"\u001b[39;49m)\n\u001b[1;32m     <a href='vscode-notebook-cell://wsl%2Bubuntu/home/ismael/Documents/GitRepos/MasterRepos/sanches-modified/executing_simulations.ipynb#W3sdnNjb2RlLXJlbW90ZQ%3D%3D?line=59'>60</a>\u001b[0m \u001b[39m# saving circuits\u001b[39;00m\n\u001b[1;32m     <a href='vscode-notebook-cell://wsl%2Bubuntu/home/ismael/Documents/GitRepos/MasterRepos/sanches-modified/executing_simulations.ipynb#W3sdnNjb2RlLXJlbW90ZQ%3D%3D?line=60'>61</a>\u001b[0m save_circuit(em_original\u001b[39m.\u001b[39m_ansatz, file\u001b[39m=\u001b[39m\u001b[39mf\u001b[39m\u001b[39m\"\u001b[39m\u001b[39m{\u001b[39;00mresults_dir\u001b[39m}\u001b[39;00m\u001b[39m/circuits/original_curcuit_\u001b[39m\u001b[39m{\u001b[39;00mnum_qubits\u001b[39m}\u001b[39;00m\u001b[39mqb_\u001b[39m\u001b[39m{\u001b[39;00meps\u001b[39m}\u001b[39;00m\u001b[39meps.pkl\u001b[39m\u001b[39m\"\u001b[39m)\n",
      "File \u001b[0;32m~/Documents/GitRepos/MasterRepos/sanches-modified/experiments/util.py:55\u001b[0m, in \u001b[0;36mwrite_opcounts\u001b[0;34m(em_oiginal, em_modified, file, mode)\u001b[0m\n\u001b[1;32m     47\u001b[0m \u001b[39mdef\u001b[39;00m \u001b[39mwrite_opcounts\u001b[39m(\n\u001b[1;32m     48\u001b[0m         em_oiginal: ExperimentModule, \n\u001b[1;32m     49\u001b[0m         em_modified: ExperimentModule, \n\u001b[1;32m     50\u001b[0m         file\u001b[39m=\u001b[39m\u001b[39m\"\u001b[39m\u001b[39mcount_opts.txt\u001b[39m\u001b[39m\"\u001b[39m, mode\u001b[39m=\u001b[39m\u001b[39m\"\u001b[39m\u001b[39mw+\u001b[39m\u001b[39m\"\u001b[39m\n\u001b[1;32m     51\u001b[0m     ):\n\u001b[1;32m     53\u001b[0m     line \u001b[39m=\u001b[39m \u001b[39m\"\u001b[39m\u001b[39m--\u001b[39m\u001b[39m\"\u001b[39m\u001b[39m*\u001b[39m\u001b[39m20\u001b[39m\n\u001b[0;32m---> 55\u001b[0m     \u001b[39mwith\u001b[39;00m \u001b[39mopen\u001b[39;49m(file, mode) \u001b[39mas\u001b[39;00m txt_file:\n\u001b[1;32m     56\u001b[0m         txt_file\u001b[39m.\u001b[39mwrite(line \u001b[39m+\u001b[39m \u001b[39m\"\u001b[39m\u001b[39m\\n\u001b[39;00m\u001b[39m\"\u001b[39m)\n\u001b[1;32m     57\u001b[0m         txt_file\u001b[39m.\u001b[39mwrite(\u001b[39m\"\u001b[39m\u001b[39m\\t\u001b[39;00m\u001b[39m\\t\u001b[39;00m\u001b[39m Operation Count \u001b[39m\u001b[39m\\n\u001b[39;00m\u001b[39m\"\u001b[39m)\n",
      "\u001b[0;31mFileNotFoundError\u001b[0m: [Errno 2] No such file or directory: 'results/op_counts/counts_3qb_0.5eps.txt'"
     ]
    }
   ],
   "source": [
    "\n",
    "for num_qubits, eps in product(qubit_range, eps_values):\n",
    "\n",
    "    print(\"--\"*50)\n",
    "    print(f\"\\t\\t Experiments for {num_qubits} qubits and {eps} error\")\n",
    "    print(\"--\"*50)\n",
    "\n",
    "\n",
    "    state = get_random_state(num_qubits)\n",
    "\n",
    "    ansatz = SanchezAnsatz(state, eps)\n",
    "\n",
    "    ## Running original\n",
    "    print(\"--\"*50)\n",
    "    print(\"\\t\\t Running ORIGINAL Method\")\n",
    "    print(\"--\"*50)\n",
    "    init_params = ansatz.init_params\n",
    "    t_ansatz = transpile(ansatz, basis_gates=[\"cx\", \"u\"])\n",
    "\n",
    "    em_original = ExperimentModule(\n",
    "                    t_ansatz,\n",
    "                    SPSA(maxiter=1000),\n",
    "                    target_state=state,\n",
    "                    init_params=init_params\n",
    "                )\n",
    "\n",
    "    result_original = em_original.minimize()\n",
    "\n",
    "    ## Running modified\n",
    "    print(\"--\"*50)\n",
    "    print(\"\\t\\t Running MODIFIED method\")\n",
    "    print(\"--\"*50)\n",
    "    ansatz = SanchezAnsatz(state, eps, build_modified=True)\n",
    "\n",
    "    init_params = ansatz.init_params\n",
    "    t_ansatz = transpile(ansatz, basis_gates=[\"cx\", \"u\"])\n",
    "\n",
    "    em_modified = ExperimentModule(\n",
    "                    t_ansatz,\n",
    "                    SPSA(maxiter=1000),\n",
    "                    target_state=state,\n",
    "                    init_params=init_params\n",
    "                )\n",
    "\n",
    "    result_modified = em_modified.minimize()\n",
    "\n",
    "    # Saving comparison plots\n",
    "    save_plots(em_original, em_modified, f\"{results_dir}/plots/plot_{num_qubits}qb_{eps}eps.pdf\")\n",
    "\n",
    "    # writing csv loss progression\n",
    "    write_row(em_original._loss_progression, file=f\"{results_dir}/csv/original_fidloss_{num_qubits}qb_{eps}eps.csv\")\n",
    "    write_row(em_modified._loss_progression, file=f\"{results_dir}/csv/modified_fidloss_{num_qubits}qb_{eps}eps.csv\")\n",
    "\n",
    "    # writing csv best point\n",
    "    write_row(em_original.result.x, file=f\"{results_dir}/csv/original_xbest_{num_qubits}qb_{eps}eps.csv\")\n",
    "    write_row(em_modified.result.x, file=f\"{results_dir}/csv/modified_xbest_{num_qubits}qb_{eps}eps.csv\")\n",
    "\n",
    "    # writing op_counts\n",
    "    write_opcounts(em_original, em_modified, file=f\"{results_dir}/op_counts/counts_{num_qubits}qb_{eps}eps.txt\")\n",
    "\n",
    "    # saving circuits\n",
    "    save_circuit(em_original._ansatz, file=f\"{results_dir}/circuits/original_curcuit_{num_qubits}qb_{eps}eps.pkl\")\n",
    "    save_circuit(em_modified._ansatz, file=f\"{results_dir}/circuits/modified_curcuit_{num_qubits}qb_{eps}eps.pkl\")"
   ]
  },
  {
   "cell_type": "markdown",
   "metadata": {},
   "source": [
    "Creating pandas dataframe\n",
    "\n",
    "Creating result dictionaries"
   ]
  },
  {
   "cell_type": "code",
   "execution_count": null,
   "metadata": {},
   "outputs": [],
   "source": [
    "#[0.5, 0.1, 0.05, 0.01, 0.005, 0.001]\n",
    "original_results_dict = {\n",
    "    \"num_qubits\": [],\n",
    "    0.5: [],\n",
    "    0.1: [],\n",
    "    0.05: [],\n",
    "    0.01: [],\n",
    "    0.005: [],\n",
    "    0.001: []\n",
    "}\n",
    "\n",
    "modified_results_dict = copy.deepcopy(original_results_dict)\n",
    "\n",
    "for num_qubits in qubit_range:\n",
    "    original_results_dict[\"num_qubits\"] += [num_qubits]\n",
    "    modified_results_dict[\"num_qubits\"] += [num_qubits]\n",
    "\n",
    "    for eps in eps_values:\n",
    "        fid_loss_original = np.loadtxt(f\"{results_dir}/csv/original_fidloss_{num_qubits}qb_{eps}eps.csv\", delimiter=\",\")\n",
    "        data_original = fid_loss_original[-1][-1] if len(fid_loss_original.shape) > 1 else fid_loss_original[-1]\n",
    "        original_results_dict[eps]+= [round(data_original,4)]\n",
    "\n",
    "        fid_loss_modified = np.loadtxt(f\"{results_dir}/csv/modified_fidloss_{num_qubits}qb_{eps}eps.csv\", delimiter=\",\")\n",
    "        data_modified = fid_loss_modified[-1][-1] if len(fid_loss_modified.shape) > 1 else fid_loss_modified[-1]\n",
    "        modified_results_dict[eps]+= [round(data_modified, 4)]"
   ]
  },
  {
   "cell_type": "markdown",
   "metadata": {},
   "source": [
    "Original fidloss"
   ]
  },
  {
   "cell_type": "code",
   "execution_count": null,
   "metadata": {},
   "outputs": [],
   "source": [
    "df_original = pd.DataFrame(original_results_dict)\n",
    "df_original=df_original.set_index(\"num_qubits\")\n",
    "df_original"
   ]
  },
  {
   "cell_type": "markdown",
   "metadata": {},
   "source": [
    "Modified fidloss"
   ]
  },
  {
   "cell_type": "code",
   "execution_count": null,
   "metadata": {},
   "outputs": [],
   "source": [
    "df_modified = pd.DataFrame(modified_results_dict)\n",
    "df_modified = df_modified.set_index(\"num_qubits\")\n",
    "df_modified"
   ]
  },
  {
   "cell_type": "code",
   "execution_count": null,
   "metadata": {},
   "outputs": [],
   "source": [
    "abs(df_original -df_modified)/(df_original + df_modified)"
   ]
  },
  {
   "cell_type": "markdown",
   "metadata": {},
   "source": [
    "Counting depth"
   ]
  },
  {
   "cell_type": "code",
   "execution_count": null,
   "metadata": {},
   "outputs": [],
   "source": [
    "depth_count_original = []\n",
    "depth_count_modified = []\n",
    "\n",
    "for qb_idx, num_qubits in enumerate(qubit_range):\n",
    "    depth_count_original += [[]]\n",
    "    depth_count_modified += [[]]\n",
    "\n",
    "    for eps in eps_values:\n",
    "        #circuit = load_circuit(f\"results/circuits/curcuit_{num_qubits}qb_{eps}eps.pkl\")\n",
    "        state = get_random_state(num_qubits)\n",
    "\n",
    "        # original\n",
    "        ansatz = SanchezAnsatz(state, eps)\n",
    "        to_ansatz = transpile(ansatz, basis_gates=[\"cx\", \"u\"])\n",
    "        depth_count_original[qb_idx] += [to_ansatz.depth()]\n",
    "\n",
    "        # modified\n",
    "        mod_ansatz = SanchezAnsatz(state, eps, build_modified=True)\n",
    "        tm_ansatz = transpile(mod_ansatz, basis_gates=[\"cx\", \"u\"])\n",
    "        depth_count_modified[qb_idx] += [tm_ansatz.depth()]\n"
   ]
  },
  {
   "cell_type": "code",
   "execution_count": null,
   "metadata": {},
   "outputs": [],
   "source": [
    "mean_depth_original = np.mean(depth_count_original, axis=1, dtype=np.int32)\n",
    "mean_depth_modified = np.mean(depth_count_modified, axis=1, dtype=np.int32)\n",
    "\n",
    "plt.plot(qubit_range, mean_depth_original, \"--\", marker=\"o\", label='original')\n",
    "plt.plot(qubit_range, mean_depth_modified, \"-.\", marker=\"+\", label=\"modified\")\n",
    "plt.xlabel(\"num qubits\")\n",
    "plt.ylabel(\"Circuit Depth\")\n",
    "plt.legend(loc=\"best\")\n",
    "plt.plot()\n",
    "plt.savefig(\"results/mean_circuit_depth.pdf\")"
   ]
  }
 ],
 "metadata": {
  "kernelspec": {
   "display_name": "Sanchez (env)",
   "language": "python",
   "name": "sanchez-env"
  },
  "language_info": {
   "codemirror_mode": {
    "name": "ipython",
    "version": 3
   },
   "file_extension": ".py",
   "mimetype": "text/x-python",
   "name": "python",
   "nbconvert_exporter": "python",
   "pygments_lexer": "ipython3",
   "version": "3.9.0"
  },
  "orig_nbformat": 4
 },
 "nbformat": 4,
 "nbformat_minor": 2
}
