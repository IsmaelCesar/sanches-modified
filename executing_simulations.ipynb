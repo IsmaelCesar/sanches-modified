{
 "cells": [
  {
   "cell_type": "code",
   "execution_count": 1,
   "metadata": {},
   "outputs": [],
   "source": [
    "import numpy as np\n",
    "from experiment_module import ExperimentModule\n",
    "from sanchez_ansatz import SanchezAnsatz\n",
    "from qiskit import transpile\n",
    "from qiskit_algorithms.optimizers import SPSA\n",
    "import matplotlib.pyplot as plt\n",
    "from itertools import product\n",
    "\n",
    "%matplotlib inline"
   ]
  },
  {
   "cell_type": "code",
   "execution_count": null,
   "metadata": {},
   "outputs": [],
   "source": [
    "def save_plots(em_original: ExperimentModule, em_modified: ExperimentModule, eps: float):\n",
    "    \n",
    "    plt.plot(em_original._loss_progression, \"--\", marker=\"o\", markevery=500, label=\"Original\")\n",
    "    plt.plot(em_modified._loss_progression, \"-.\", marker=\"+\", markevery=500, label=\"Modified\")\n",
    "    plt.ylabel(\"fid loss\")\n",
    "    plt.xlabel(\"iterations\")\n",
    "    plt.legend(loc=\"best\")\n",
    "    plt.savefig(f\"results/plot_{em_modified.num_qubits}_{eps}_error.pdf\")\n",
    "    plt.clf()\n",
    "    plt.close()"
   ]
  },
  {
   "cell_type": "code",
   "execution_count": 5,
   "metadata": {},
   "outputs": [
    {
     "name": "stdout",
     "output_type": "stream",
     "text": [
      "----------------------------------------------------------------------------------------------------\n",
      "\t\t Running ORIGINAL Method\n",
      "----------------------------------------------------------------------------------------------------\n",
      "----------------------------------------------------------------------------------------------------\n",
      "\t\t Running MODIFIED method\n",
      "----------------------------------------------------------------------------------------------------\n"
     ]
    }
   ],
   "source": [
    "qubit_range = [3, 4, 5, 6, 7, 8]\n",
    "eps_values = [0.5, 0.1, 0.05, 0.01, 0.005, 0.001]\n",
    "\n",
    "for num_qubits, eps in product(qubit_range, eps_values):\n",
    "\n",
    "    print(\"--\"*50)\n",
    "    print(f\"\\t\\t Experiments for {num_qubits} qubits and {eps} error\")\n",
    "    print(\"--\"*50)\n",
    "\n",
    "\n",
    "    state = np.random.rand(2**num_qubits)\n",
    "    state = state / np.linalg.norm(state)\n",
    "\n",
    "    ansatz = SanchezAnsatz(state, eps)\n",
    "\n",
    "    ## Running original\n",
    "    print(\"--\"*50)\n",
    "    print(\"\\t\\t Running ORIGINAL Method\")\n",
    "    print(\"--\"*50)\n",
    "    init_params = ansatz.init_params\n",
    "    t_ansatz = transpile(ansatz, basis_gates=[\"cx\", \"u\"])\n",
    "\n",
    "    em_original = ExperimentModule(\n",
    "                    t_ansatz,\n",
    "                    SPSA(maxiter=1000),\n",
    "                    target_state=state,\n",
    "                    init_params=init_params\n",
    "                )\n",
    "\n",
    "    result_original = em_original.minimize()\n",
    "\n",
    "    ## Running modified\n",
    "    print(\"--\"*50)\n",
    "    print(\"\\t\\t Running MODIFIED method\")\n",
    "    print(\"--\"*50)\n",
    "    ansatz = SanchezAnsatz(state, eps, build_modified=True)\n",
    "\n",
    "    init_params = ansatz.init_params\n",
    "    t_ansatz = transpile(ansatz, basis_gates=[\"cx\", \"u\"])\n",
    "\n",
    "    em_modified = ExperimentModule(\n",
    "                    t_ansatz,\n",
    "                    SPSA(maxiter=1000),\n",
    "                    target_state=state,\n",
    "                    init_params=init_params\n",
    "                )\n",
    "\n",
    "    result_modified = em_modified.minimize()\n"
   ]
  },
  {
   "cell_type": "code",
   "execution_count": 6,
   "metadata": {},
   "outputs": [
    {
     "name": "stdout",
     "output_type": "stream",
     "text": [
      "Depth ORIGINAL: 4\n",
      "Depth Modified: 71\n"
     ]
    }
   ],
   "source": [
    "print(\"Depth ORIGINAL:\", em_original._ansatz.depth())\n",
    "print(\"Depth Modified:\", em_modified._ansatz.depth())"
   ]
  }
 ],
 "metadata": {
  "kernelspec": {
   "display_name": "Sanches (Env)",
   "language": "python",
   "name": "sanches-env"
  },
  "language_info": {
   "codemirror_mode": {
    "name": "ipython",
    "version": 3
   },
   "file_extension": ".py",
   "mimetype": "text/x-python",
   "name": "python",
   "nbconvert_exporter": "python",
   "pygments_lexer": "ipython3",
   "version": "3.9.0"
  },
  "orig_nbformat": 4
 },
 "nbformat": 4,
 "nbformat_minor": 2
}
