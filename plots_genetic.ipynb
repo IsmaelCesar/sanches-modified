{
 "cells": [
  {
   "cell_type": "markdown",
   "metadata": {},
   "source": [
    "Plotting the mean probabilities of all 10 runs for each distribution according to the best individual"
   ]
  },
  {
   "cell_type": "code",
   "execution_count": 25,
   "metadata": {},
   "outputs": [],
   "source": [
    "import os\n",
    "import re\n",
    "import pandas as pd\n",
    "import numpy as np\n",
    "import pickle as pkl\n",
    "from experiments import get_state\n",
    "from itertools import product\n",
    "from qiskit import QuantumCircuit, transpile\n",
    "from qiskit_aer import Aer\n",
    "from experiments.util import load_circuit\n",
    "from sanchez_ansatz import SanchezAnsatz\n",
    "import matplotlib.pyplot as plt\n",
    "\n",
    "num_qubits = 15\n",
    "eps = 0.05\n",
    "\n",
    "RESULTS_DIR = \"results/genetic/distributions_full_training\"\n",
    "x_operations = [\"cycle\", \"order\", \"pmx\"]\n",
    "mut_operations = [\"insert\", \"inverse\", \"scramble\"]"
   ]
  },
  {
   "cell_type": "markdown",
   "metadata": {},
   "source": [
    "#### $log$-Normal $(\\mu = 0.1, \\sigma = 0.3)$"
   ]
  },
  {
   "cell_type": "code",
   "execution_count": 30,
   "metadata": {},
   "outputs": [],
   "source": [
    "def get_statevector(ansatz: QuantumCircuit):\n",
    "    sv_sim = Aer.get_backend(\"statevector_simulator\")\n",
    "    job = sv_sim.run(ansatz)\n",
    "    result = job.result()\n",
    "    statevector = result.get_statevector()\n",
    "    return statevector.data\n",
    "\n",
    "def get_best_individual(inividual_path: str): \n",
    "    df = pd.read_csv(inividual_path, header=None)\n",
    "    digits = re.findall(r\"\\d+\", df.iloc[-1].values[0])\n",
    "    digits = [int(d) for d in digits]\n",
    "    return digits"
   ]
  },
  {
   "cell_type": "code",
   "execution_count": null,
   "metadata": {},
   "outputs": [],
   "source": [
    "x_points = (0, 1)\n",
    "mu = .1\n",
    "sig = .3\n",
    "\n",
    "target_state = get_state(num_qubits, state_type=\"lognormal\", state_params={\"x_points\": x_points, \"s\": 1, \"loc\": mu, \"scale\": sig})"
   ]
  },
  {
   "cell_type": "code",
   "execution_count": 38,
   "metadata": {},
   "outputs": [],
   "source": [
    "n_runs = 10\n",
    "num_qubits = 15\n",
    "eps = 0.05\n",
    "dist_name = \"lognormal\"\n",
    "x_op = \"order\"\n",
    "mut_op = \"scramble\"\n",
    "\n",
    "exp_dir = os.path.join(RESULTS_DIR, f\"{dist_name}_{x_op}_{mut_op}\")\n",
    "\n",
    "o_ansatz = SanchezAnsatz(target_state=target_state, eps=eps)\n",
    "\n",
    "m_ansatz = SanchezAnsatz(target_state=target_state, eps=eps, build_modified=True)\n",
    "\n",
    "original_outputs = []\n",
    "modified_outputs = []\n",
    "\n",
    "for run_idx in range(1, 3): \n",
    "\n",
    "    # run directory\n",
    "    run_dir = os.path.join(exp_dir, f\"run_{run_idx}\")\n",
    "\n",
    "    # loading best individuals\n",
    "    best_individuals_original_path = os.path.join(run_dir, \"csv\", f\"original_best_individual_{num_qubits}qb_{eps}eps.csv\")\n",
    "    best_individual_original = get_best_individual(best_individuals_original_path)\n",
    "\n",
    "    t_o_ansatz = transpile(o_ansatz, basis_gates=[\"cx\", \"u\"], initial_layout=best_individual_original)\n",
    "\n",
    "    best_individuals_modified_path = os.path.join(run_dir, \"csv\", f\"modified_best_individual_{num_qubits}qb_{eps}eps.csv\")\n",
    "    best_individual_modified = get_best_individual(best_individuals_modified_path)\n",
    "\n",
    "    t_m_ansatz = transpile(m_ansatz, basis_gates=[\"cx\", \"u\"], initial_layout=best_individual_modified)\n",
    "\n",
    "\n",
    "    # loading best individuals parameters\n",
    "    best_params_original_path = os.path.join(run_dir, \"csv\", f\"original_best_individual_params_{num_qubits}qb_{eps}eps.csv\")\n",
    "    best_params_original = np.loadtxt(best_params_original_path, delimiter=\",\")\n",
    "\n",
    "    best_params_modified_path = os.path.join(run_dir, \"csv\", f\"modified_best_individual_params_{num_qubits}qb_{eps}eps.csv\")\n",
    "    best_params_modified = np.loadtxt(best_params_modified_path, delimiter=\",\")\n",
    "\n",
    "    # running simulations\n",
    "    try: \n",
    "        t_o_ansatz_params = t_o_ansatz.assign_parameters(best_params_original[-1])\n",
    "        t_m_ansatz_params = t_m_ansatz.assign_parameters(best_params_modified[-1])\n",
    "    except: \n",
    "        print(\"Error\")\n",
    "\n",
    "    # getting outputs\n",
    "    o_output = get_statevector(t_o_ansatz_params)\n",
    "    m_output = get_statevector(t_m_ansatz_params)\n",
    "\n",
    "    original_outputs.append(o_output)\n",
    "    modified_outputs.append(m_output)\n",
    "\n",
    "original_outputs = np.array(original_outputs)\n",
    "modified_outputs = np.array(modified_outputs)"
   ]
  },
  {
   "cell_type": "code",
   "execution_count": 29,
   "metadata": {},
   "outputs": [
    {
     "name": "stdout",
     "output_type": "stream",
     "text": [
      "Strings:  ['14', '8', '2', '5', '3', '1', '4', '7', '10', '11', '6', '9', '13', '0', '12']\n",
      "Integers:  [14, 8, 2, 5, 3, 1, 4, 7, 10, 11, 6, 9, 13, 0, 12]\n"
     ]
    }
   ],
   "source": [
    "path = f\"{RESULTS_DIR}/lognormal_order_scramble/run_1/csv/original_best_individual_15qb_0.05eps.csv\"\n",
    "\n",
    "df = pd.read_csv(path, header=None)\n",
    "digits = re.findall(r\"\\d+\", df.iloc[-1].values[0])\n",
    "print(\"Strings: \", digits)\n",
    "digits = [int(d) for d in digits]\n",
    "print(\"Integers: \", digits)"
   ]
  },
  {
   "cell_type": "code",
   "execution_count": null,
   "metadata": {},
   "outputs": [],
   "source": [
    "\n",
    "freqs = np.abs(state)**2\n",
    "\n",
    "x = np.linspace(*x_points, num=2**num_qubits)\n",
    "\n",
    "plt.plot(x, freqs, label=\"target\")\n",
    "plt.legend(loc=\"best\")\n",
    "plt.ylabel(\"P(X)\")\n",
    "plt.xlabel(\"X\")\n"
   ]
  }
 ],
 "metadata": {
  "kernelspec": {
   "display_name": "Sanchez (env)",
   "language": "python",
   "name": "sanches-env"
  },
  "language_info": {
   "codemirror_mode": {
    "name": "ipython",
    "version": 3
   },
   "file_extension": ".py",
   "mimetype": "text/x-python",
   "name": "python",
   "nbconvert_exporter": "python",
   "pygments_lexer": "ipython3",
   "version": "3.9.0"
  }
 },
 "nbformat": 4,
 "nbformat_minor": 2
}
