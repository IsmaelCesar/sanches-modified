{
 "cells": [
  {
   "cell_type": "code",
   "execution_count": null,
   "metadata": {},
   "outputs": [],
   "source": [
    "import sys\n",
    "sys.path.append(\"../\")\n",
    "import numpy as np\n",
    "from qiskit import transpile\n",
    "from qiskit_algorithms.optimizers import SPSA\n",
    "from sanchez_ansatz import SanchezAnsatz\n",
    "from experiments.experiment_module import ExperimentModule\n",
    "from experiments.create_state import get_state\n",
    "from experiments.util import get_state_vector\n",
    "import matplotlib.pyplot as plt\n",
    "\n",
    "%matplotlib inline"
   ]
  },
  {
   "cell_type": "markdown",
   "metadata": {},
   "source": [
    "### Normal distribution"
   ]
  },
  {
   "cell_type": "code",
   "execution_count": null,
   "metadata": {},
   "outputs": [],
   "source": [
    "interval = (0, 1) \n",
    "\n",
    "state_params = {\"x_points\": interval, \"loc\": 0.5, \"scale\": 0.6}\n",
    "\n",
    "num_qubits = 8\n",
    "\n",
    "x_points = np.linspace(*interval, 2**num_qubits)\n",
    "normal_amplitudes = get_state(num_qubits, \"normal\", state_params)\n",
    "\n",
    "sanchez = SanchezAnsatz(normal_amplitudes, eps=0.05)\n",
    "init_params = sanchez.init_params\n",
    "t_sanchez = transpile(sanchez, basis_gates=[\"u\", \"cx\"])\n",
    "\n",
    "em = ExperimentModule(t_sanchez, SPSA(maxiter=1000), normal_amplitudes, init_params,  device=\"GPU\")\n",
    "\n",
    "res = em.minimize(\"mse\")\n",
    "\n",
    "t_sanchez = t_sanchez.assign_parameters(res.x)\n",
    "\n",
    "result_sv = get_state_vector(t_sanchez)"
   ]
  },
  {
   "cell_type": "code",
   "execution_count": null,
   "metadata": {},
   "outputs": [],
   "source": [
    "plt.plot(x_points, normal_amplitudes)\n",
    "plt.plot(x_points, result_sv)\n",
    "plt.grid()\n",
    "plt.show()"
   ]
  },
  {
   "cell_type": "markdown",
   "metadata": {},
   "source": [
    "### Black-Scholes"
   ]
  },
  {
   "cell_type": "code",
   "execution_count": null,
   "metadata": {},
   "outputs": [],
   "source": [
    "interval = (-10, 10)\n",
    "\n",
    "state_params = {\"x_points\": interval, \"K\": 45, \"c\": 3}\n",
    "\n",
    "num_qubits = 5\n",
    "x_points = np.linspace(0, 2**num_qubits, 2**num_qubits)\n",
    "black_scholes_state = get_state(num_qubits, \"black-scholes\", state_params)\n",
    "\n",
    "plt.plot(x_points, black_scholes_state)\n",
    "plt.show()\n"
   ]
  }
 ],
 "metadata": {
  "kernelspec": {
   "display_name": "Sanchez (Env)",
   "language": "python",
   "name": "sanchez-enf"
  },
  "language_info": {
   "codemirror_mode": {
    "name": "ipython",
    "version": 3
   },
   "file_extension": ".py",
   "mimetype": "text/x-python",
   "name": "python",
   "nbconvert_exporter": "python",
   "pygments_lexer": "ipython3",
   "version": "3.9.0"
  }
 },
 "nbformat": 4,
 "nbformat_minor": 2
}
