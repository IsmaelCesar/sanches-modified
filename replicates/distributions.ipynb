{
 "cells": [
  {
   "cell_type": "code",
   "execution_count": null,
   "metadata": {},
   "outputs": [],
   "source": [
    "import sys\n",
    "sys.path.append(\"../\")\n",
    "import numpy as np\n",
    "from qiskit import QuantumCircuit, transpile\n",
    "from qiskit_algorithms.optimizers import SPSA\n",
    "from sanchez_ansatz import SanchezAnsatz\n",
    "from experiments.experiment_module import ExperimentModule\n",
    "from experiments.create_state import get_state\n",
    "from experiments.densities import compute_eta\n",
    "from experiments.util import get_state_vector\n",
    "from copy import deepcopy\n",
    "from typing import Dict\n",
    "import matplotlib.pyplot as plt\n",
    "\n",
    "%matplotlib inline"
   ]
  },
  {
   "cell_type": "code",
   "execution_count": 80,
   "metadata": {},
   "outputs": [],
   "source": [
    "class ReplicateOptModule: \n",
    "    \n",
    "    def __init__(self, ansatz: QuantumCircuit, k0: int, init_params: np.ndarray, target_state: np.ndarray, maxiter: int = 100, learning_rate: float = 1.5, tol: float=1e-9):\n",
    "        self._ansatz = ansatz\n",
    "        self._num_qubits = ansatz.num_qubits\n",
    "        self._init_params = init_params\n",
    "        self._target_state = target_state\n",
    "        self._maxiter = maxiter\n",
    "        self._learning_rate = learning_rate\n",
    "        self._k0 = k0\n",
    "        self._tol = tol\n",
    "        \n",
    "    def _compute_state_vector(self, params):\n",
    "        temp_ansatz = self._ansatz.assign_parameters(params)\n",
    "        return get_state_vector(temp_ansatz)\n",
    "    \n",
    "    def loss(self, output_state: np.ndarray ,target_state: np.ndarray): \n",
    "        return np.mean((output_state - target_state)**2)\n",
    "    \n",
    "    def _compute_partial(self, out_amp: float, amp_idx: int, param: float, param_idx: int, param_lvl: int):\n",
    "        \"\"\"\n",
    "        Equation (34) from MARIN-SANCHEZ et al. (2021) arXiv:2111.07933\n",
    "\n",
    "        Returns:\n",
    "            float: the result of the partial\n",
    "        \"\"\"\n",
    "        condition_1_1 = param_idx*2**(self._num_qubits - param_lvl + 1) <= amp_idx\n",
    "        condition_1_2 = amp_idx < (param_idx + 1)*2**(self._num_qubits - param_lvl)\n",
    "        \n",
    "        condition_2_1 = (param_idx+1)*2**(self._num_qubits - param_lvl) <= amp_idx\n",
    "        condition_2_2 = amp_idx < (param_idx+1)*2**(self._num_qubits - param_lvl + 1)\n",
    "        \n",
    "        if  condition_1_1 and condition_1_2:\n",
    "            return -1/2 * np.sin(param/2)/np.cos(param/2) * out_amp\n",
    "        if condition_2_1 and condition_2_2:\n",
    "            return 1/2 * np.cos(param/2)/np.sin(param/2) * out_amp\n",
    "        return 0\n",
    "    \n",
    "    def _loss_partial(self, output_state: np.ndarray, targ_state: np.ndarray, param: float, param_idx: int, param_lvl):\n",
    "        diffs = []\n",
    "        for amp_idx, (out_amp, targ_amp) in enumerate(zip(output_state, targ_state)):\n",
    "            diff = 2*(out_amp - targ_amp)*self._compute_partial(out_amp, amp_idx, param, param_idx, param_lvl)\n",
    "            diffs.append(diff)\n",
    "\n",
    "        return np.mean(diff)\n",
    "        \n",
    "    def _opt_step(self, params: np.ndarray, output_state, targ_state)->np.ndarray:\n",
    "        \n",
    "        loss_derivatives = np.zeros((len(params),)).astype(np.complex64)\n",
    "\n",
    "        # navigate unclustered angles\n",
    "        for param_level in range(self._k0):\n",
    "            2**param_level\n",
    "            \n",
    "            # at each level we have exactly 2**param_level angles\n",
    "            for param_idx in range(2**param_level):\n",
    "                param = params[param_idx + 2**param_level - 1]\n",
    "                loss_derivatives[param_idx + 2**param_level - 1] = self._loss_partial(output_state, targ_state, param, param_idx, param_level)\n",
    "\n",
    "\n",
    "        # navigate unclustered angles\n",
    "        clustered_parameters = len(params) - 2**self._k0\n",
    "        for c_param in range(clustered_parameters):\n",
    "            # infer param index by cluster level\n",
    "            param_idx = 2**self._k0 - 1 + c_param\n",
    "            param_level = self._k0 + c_param\n",
    "            \n",
    "            param = params[param_idx]\n",
    "            loss_derivatives[param_idx] = self._loss_partial(output_state, targ_state, param, param_idx, param_level)\n",
    "\n",
    "        return np.abs(loss_derivatives)\n",
    "    \n",
    "    def minimize(self) -> Dict[float, np.ndarray]:\n",
    "        \"\"\"\n",
    "        Implements algorithm 1 from MARIN-SANCHEZ et al. (2021) arXiv:2111.07933\n",
    "\n",
    "        returns: \n",
    "            ndarray: Numpy ndarray with the optimized parameters \n",
    "        \"\"\"\n",
    "\n",
    "        params = deepcopy(self._init_params)\n",
    "        output_state = self._compute_state_vector(params)\n",
    "        \n",
    "        previous_loss = 0\n",
    "        computed_loss = self.loss(output_state, self._target_state)\n",
    "        loss_difference = np.abs(computed_loss - previous_loss)\n",
    "\n",
    "        total_iterations = 0\n",
    "        while total_iterations < self._maxiter and loss_difference > self._tol:\n",
    "\n",
    "            param_derivatives = self._opt_step(params, output_state, self._target_state)\n",
    "\n",
    "            params = params - self._learning_rate*param_derivatives\n",
    "\n",
    "            output_state = self._compute_state_vector(params)\n",
    "\n",
    "            previous_loss = computed_loss\n",
    "            computed_loss = self.loss(output_state, self._target_state)\n",
    "            loss_difference = np.abs(computed_loss - previous_loss)\n",
    "\n",
    "            total_iterations += 1\n",
    "\n",
    "        return {\"loss\": computed_loss, \"x\": params}\n",
    "\n",
    "        "
   ]
  },
  {
   "cell_type": "code",
   "execution_count": null,
   "metadata": {},
   "outputs": [],
   "source": [
    "num_qubits = 5\n",
    "state_params = {\"x_points\": (0, 1), \"loc\": 0.5, \"scale\": 0.3}\n",
    "\n",
    "normal_amplitudes = get_state(num_qubits, \"normal\", state_params)\n",
    "eta = compute_eta(\"normal\", density_params=state_params)\n",
    "\n",
    "sanchez = SanchezAnsatz(normal_amplitudes, eps=0.05, eta=eta)\n",
    "\n",
    "t_sanchez = transpile(sanchez, basis_gates=[\"u\", \"cx\"])"
   ]
  },
  {
   "cell_type": "code",
   "execution_count": 85,
   "metadata": {},
   "outputs": [],
   "source": [
    "custom_em = ReplicateOptModule(t_sanchez.reverse_bits(), sanchez.k0, list(reversed(sanchez.init_params)), normal_amplitudes, maxiter=2000)\n",
    "result = custom_em.minimize()"
   ]
  },
  {
   "cell_type": "code",
   "execution_count": 86,
   "metadata": {},
   "outputs": [
    {
     "data": {
      "image/png": "[encoded data removed]",
      "text/plain": [
       "<Figure size 640x480 with 1 Axes>"
      ]
     },
     "metadata": {},
     "output_type": "display_data"
    }
   ],
   "source": [
    "t_sanchez_p = t_sanchez.assign_parameters(sanchez.init_params)\n",
    "output_state = get_state_vector(t_sanchez_p)\n",
    "\n",
    "x_points = np.linspace(0, 1, 2**num_qubits)\n",
    "plt.plot(x_points, normal_amplitudes)\n",
    "plt.plot(x_points, output_state)\n",
    "plt.show()"
   ]
  },
  {
   "cell_type": "markdown",
   "metadata": {},
   "source": [
    "### Normal distribution"
   ]
  },
  {
   "cell_type": "code",
   "execution_count": null,
   "metadata": {},
   "outputs": [],
   "source": [
    "interval = (0, 1) \n",
    "num_qubits = 3\n",
    "\n",
    "scales = [1, 0.6, 0.4, 0.3]\n",
    "\n",
    "target_states = []\n",
    "approx_states = []\n",
    "\n",
    "for scale in scales:\n",
    "\n",
    "    state_params = {\"x_points\": interval, \"loc\": 0.5, \"scale\": scale}\n",
    "\n",
    "    normal_amplitudes = get_state(num_qubits, \"normal\", state_params)\n",
    "    eta = compute_eta(\"normal\", density_params=state_params)\n",
    "\n",
    "    sanchez = SanchezAnsatz(normal_amplitudes, eps=0.05, eta=eta)\n",
    "    init_params = sanchez.init_params\n",
    "    t_sanchez = transpile(sanchez, basis_gates=[\"u\", \"cx\"])\n",
    "\n",
    "    em = ExperimentModule(t_sanchez, SPSA(maxiter=3000), target_state=normal_amplitudes, init_params=init_params,  device=\"GPU\")\n",
    "\n",
    "    res = em.minimize()\n",
    "\n",
    "    t_sanchez = t_sanchez.assign_parameters(res.x)\n",
    "\n",
    "    result_sv = get_state_vector(t_sanchez)\n",
    "    \n",
    "    target_states.append(normal_amplitudes)\n",
    "    approx_states.append(result_sv)"
   ]
  },
  {
   "cell_type": "code",
   "execution_count": null,
   "metadata": {},
   "outputs": [],
   "source": [
    "t_sanchez.draw(\"mpl\", style=\"clifford\")"
   ]
  },
  {
   "cell_type": "code",
   "execution_count": null,
   "metadata": {},
   "outputs": [],
   "source": [
    "fig, axes = plt.subplots(2, 2, figsize=(10, 5))\n",
    "\n",
    "x_points = np.linspace(*interval, 2**num_qubits)\n",
    "\n",
    "axes = axes.reshape(-1)\n",
    "\n",
    "for (ax, targ_state, approx_state) in zip(axes, target_states, approx_states):\n",
    "    fid = np.abs(targ_state @ approx_state)**2\n",
    "    ax.plot(x_points, targ_state, label=\"target\")\n",
    "    ax.plot(x_points, approx_state, \"--\", label=f\"output (F={np.round(fid, 4)})\")\n",
    "    ax.grid()\n",
    "    ax.legend(loc=\"best\")\n",
    "\n",
    "axes = axes.reshape(2, 2)"
   ]
  },
  {
   "cell_type": "markdown",
   "metadata": {},
   "source": [
    "### Black-Scholes"
   ]
  },
  {
   "cell_type": "code",
   "execution_count": null,
   "metadata": {},
   "outputs": [],
   "source": [
    "interval = (-10, 10)\n",
    "\n",
    "state_params = {\"x_points\": interval, \"K\": 45, \"c\": 3}\n",
    "\n",
    "num_qubits = 5\n",
    "x_points = np.linspace(0, 2**num_qubits, 2**num_qubits)\n",
    "black_scholes_state = get_state(num_qubits, \"black-scholes\", state_params)\n",
    "\n",
    "sanchez = SanchezAnsatz(black_scholes_state, eps=0.05)\n",
    "init_params = sanchez.init_params\n",
    "t_sanchez = transpile(sanchez, basis_gates=[\"u\", \"cx\"])\n",
    "\n",
    "em = ExperimentModule(t_sanchez, SPSA(maxiter=3000), target_state=black_scholes_state, init_params=init_params,  device=\"GPU\")\n",
    "\n",
    "\n",
    "res = em.minimize()\n",
    "\n",
    "t_sanchez = t_sanchez.assign_parameters(res.x)\n",
    "\n",
    "result_sv = get_state_vector(t_sanchez)"
   ]
  },
  {
   "cell_type": "code",
   "execution_count": null,
   "metadata": {},
   "outputs": [],
   "source": [
    "fid = np.abs(black_scholes_state @ result_sv)**2\n",
    "\n",
    "plt.plot(x_points, black_scholes_state, label=\"target\")\n",
    "plt.plot(x_points, result_sv, \"--\", label=f\"output (F={np.round(fid, 4)})\")\n",
    "plt.grid()\n",
    "plt.legend(loc=\"best\")\n",
    "plt.show()\n"
   ]
  }
 ],
 "metadata": {
  "kernelspec": {
   "display_name": "sanchez-env",
   "language": "python",
   "name": "python3"
  },
  "language_info": {
   "codemirror_mode": {
    "name": "ipython",
    "version": 3
   },
   "file_extension": ".py",
   "mimetype": "text/x-python",
   "name": "python",
   "nbconvert_exporter": "python",
   "pygments_lexer": "ipython3",
   "version": "3.9.6"
  }
 },
 "nbformat": 4,
 "nbformat_minor": 2
}
