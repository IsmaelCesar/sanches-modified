{
 "cells": [
  {
   "cell_type": "code",
   "execution_count": null,
   "metadata": {},
   "outputs": [],
   "source": [
    "import os\n",
    "import copy\n",
    "import pandas as pd\n",
    "import numpy as np\n",
    "from experiments import ExperimentModule\n",
    "from experiments import (\n",
    "    save_plots, \n",
    "    write_row, \n",
    "    write_opcounts,\n",
    "    load_circuit,\n",
    "    load_qasm_circuit,\n",
    "    create_dir,\n",
    "    get_random_state\n",
    ")\n",
    "from sanchez_ansatz import SanchezAnsatz\n",
    "from qiskit import transpile\n",
    "from experiments.create_state import get_state\n",
    "import matplotlib.pyplot as plt\n",
    "from itertools import product\n",
    "from datetime import datetime\n",
    "from typing import Tuple\n",
    "from qiskit_aer import Aer\n",
    "\n",
    "%matplotlib inline"
   ]
  },
  {
   "cell_type": "code",
   "execution_count": null,
   "metadata": {},
   "outputs": [],
   "source": [
    "results_dir = \"results/runs_shell_w_entanglement/distributions\"\n",
    "run_range = list(range(1, 11))\n",
    "#qubit_range = [3, 4, 5, 6, 7, 8]\n",
    "qubit_range = [3, 4, 5, 6, 7, 8, 9, 10, 11, 12, 13, 14, 15]\n",
    "\n",
    "# EPS values are mapped separately\n",
    "#eps_values = [0.5, 0.1, 0.05, 0.01, 0.005, 0.001]\n",
    "eps_values = [0.5, 0.1, 0.05, 0.01]"
   ]
  },
  {
   "cell_type": "code",
   "execution_count": null,
   "metadata": {},
   "outputs": [],
   "source": [
    "def load_results(results_dir, state_type, qubit_range, eps_values) -> Tuple[dict,dict]:\n",
    "    #[0.5, 0.1, 0.05, 0.01, 0.005, 0.001]\n",
    "    original_results_dict = {\n",
    "        \"num_qubits\": [],\n",
    "        0.5: [],\n",
    "        0.1: [],\n",
    "        0.05: [],\n",
    "        0.01: [],\n",
    "    }\n",
    "\n",
    "    modified_results_dict = copy.deepcopy(original_results_dict)\n",
    "\n",
    "    for (r_dir, st_type, num_qubits, eps) in product([results_dir], [state_type], qubit_range, eps_values):\n",
    "        if not num_qubits in original_results_dict[\"num_qubits\"]: \n",
    "            original_results_dict[\"num_qubits\"] += [num_qubits]\n",
    "            modified_results_dict[\"num_qubits\"] += [num_qubits]\n",
    "\n",
    "        original_results_dict[eps] += [[]]\n",
    "        modified_results_dict[eps] += [[]]\n",
    "\n",
    "        for run_idx in run_range:\n",
    "            fid_loss_original = np.loadtxt(f\"{results_dir}/{st_type}/run_{run_idx}/csv/original_fidloss_{num_qubits}qb_{eps}eps.csv\", delimiter=\",\")\n",
    "            data_original = fid_loss_original[-1][-1] if len(fid_loss_original.shape) > 1 else fid_loss_original[-1]\n",
    "            original_results_dict[eps][-1] += [data_original.round(4)]\n",
    "\n",
    "            fid_loss_modified = np.loadtxt(f\"{results_dir}/{st_type}/run_{run_idx}/csv/modified_fidloss_{num_qubits}qb_{eps}eps.csv\", delimiter=\",\")\n",
    "            data_modified = fid_loss_modified[-1][-1] if len(fid_loss_modified.shape) > 1 else fid_loss_modified[-1]\n",
    "            modified_results_dict[eps][-1]+= [data_modified.round(4)]\n",
    "    \n",
    "    return original_results_dict, modified_results_dict\n",
    "\n",
    "\n",
    "def compute_statistics(results_dict: dict) -> Tuple[dict, dict]: \n",
    "    default_dict = {\n",
    "        \"num_qubits\": qubit_range,\n",
    "        0.5: [],\n",
    "        0.1: [],\n",
    "        0.05: [],\n",
    "        0.01: [],\n",
    "    }\n",
    "    mean_results_dict = copy.deepcopy(default_dict)\n",
    "    stds_results_dict = copy.deepcopy(default_dict)\n",
    "\n",
    "    #stds_original_results_dict = copy.deepcopy(default_dict)\n",
    "    #stds_modified_results_dict = copy.deepcopy(default_dict)\n",
    "\n",
    "    for eps in eps_values:\n",
    "        mean_results_dict[eps] = np.mean(results_dict[eps], axis=1)\n",
    "        stds_results_dict[eps] = np.std(results_dict[eps], axis=1).round(2)\n",
    "\n",
    "        #mean_modified_results_dict[eps] = np.mean(modified_results_dict[eps], axis=1)\n",
    "        #stds_modified_results_dict[eps] = np.std(modified_results_dict[eps], axis=1).round(2)\n",
    "    return mean_results_dict, stds_results_dict\n",
    "\n",
    "\n",
    "def to_dataframe(results_dict: dict) -> pd.DataFrame:\n",
    "    df_results = pd.DataFrame(results_dict)\n",
    "    df_results = df_results.set_index(\"num_qubits\")\n",
    "    return df_results\n",
    "\n",
    "def get_state_vector(quantum_circuit):\n",
    "    sv_sim = Aer.get_backend(\"statevector_simulator\")\n",
    "    job = sv_sim.run(quantum_circuit)\n",
    "    result = job.result()\n",
    "    state_vector = result.get_statevector()\n",
    "    return state_vector.data\n",
    "\n",
    "def get_loaded_states(results_dir, state_type, execution_range, n_qubits, eps_value) -> Tuple[np.ndarray, np.ndarray]:\n",
    "\n",
    "    sv_list_original = []\n",
    "    sv_list_modified = []\n",
    "\n",
    "    for n_run in range(1, execution_range+1):\n",
    "        # original_circuit_file_name = os.path.join(results_dir, state_type, f\"run_{n_run}\", \"circuits\", f\"original_curcuit_{n_qubits}qb_{eps_value}eps.pkl\")\n",
    "        # original_circuit = load_circuit(original_circuit_file_name)\n",
    "        original_circuit_file_name = os.path.join(results_dir, state_type, f\"run_{n_run}\", \"circuits\", f\"original_curcuit_{n_qubits}qb_{eps_value}eps.qasm\")\n",
    "        original_circuit = load_qasm_circuit(original_circuit_file_name)\n",
    "\n",
    "        # Because we are now loading qasm circuits we do not need to assign all parameters\n",
    "        # parameters_original_filename = os.path.join(results_dir, state_type, f\"run_{n_run}\", \"csv\", f\"original_xbest_{n_qubits}qb_{eps_value}eps.csv\")\n",
    "        # parameters_original = np.loadtxt(parameters_original_filename, delimiter=\",\")\n",
    "\n",
    "\n",
    "        # modified_circuit_file_name = os.path.join(results_dir, state_type, \"run_10\", \"circuits\", f\"modified_curcuit_{n_qubits}qb_{eps_value}eps.pkl\")\n",
    "        # modified_circuit = load_circuit(modified_circuit_file_name)\n",
    "        modified_circuit_file_name = os.path.join(results_dir, state_type, \"run_10\", \"circuits\", f\"modified_curcuit_{n_qubits}qb_{eps_value}eps.qasm\")\n",
    "        modified_circuit = load_qasm_circuit(modified_circuit_file_name)\n",
    "\n",
    "        # Because we are now loading qasm circuits we do not need to assign all parameters\n",
    "        # parameters_modified_filename = os.path.join(results_dir, state_type, f\"run_{n_run}\", \"csv\", f\"modified_xbest_{n_qubits}qb_{eps_value}eps.csv\")\n",
    "        # parameters_modified = np.loadtxt(parameters_modified_filename, delimiter=\",\")\n",
    "\n",
    "        # p_original_circuit = original_circuit.assign_parameters(parameters_original)\n",
    "        # sv_original = get_state_vector(p_original_circuit)\n",
    "        sv_original = get_state_vector(original_circuit)\n",
    "        sv_list_original += [sv_original]\n",
    "\n",
    "        # p_modified_circuit = modified_circuit.assign_parameters(parameters_modified)\n",
    "        # sv_modified = get_state_vector(p_modified_circuit)\n",
    "        sv_modified = get_state_vector(modified_circuit)\n",
    "        sv_list_modified += [sv_modified]\n",
    "\n",
    "    sv_mean_original = np.mean(sv_list_original, axis=0)\n",
    "    sv_mean_modified = np.mean(sv_list_modified, axis=0)\n",
    "\n",
    "    return sv_mean_original, sv_mean_modified"
   ]
  },
  {
   "cell_type": "markdown",
   "metadata": {},
   "source": [
    "### Normal distribution $(\\mu = 0.5, \\sigma = 0.3)$"
   ]
  },
  {
   "cell_type": "code",
   "execution_count": null,
   "metadata": {},
   "outputs": [],
   "source": [
    "state_type = \"normal\""
   ]
  },
  {
   "cell_type": "code",
   "execution_count": null,
   "metadata": {},
   "outputs": [],
   "source": [
    "original_results_dict, modified_results_dict = load_results(results_dir, state_type, qubit_range, eps_values)\n",
    "\n",
    "mean_original_results_dict, stds_original_results_dict = compute_statistics(original_results_dict)\n",
    "mean_modified_results_dict, stds_modified_results_dict = compute_statistics(modified_results_dict)\n",
    "\n",
    "df_mean_original = to_dataframe(mean_original_results_dict)\n",
    "df_stds_original = to_dataframe(stds_modified_results_dict)\n",
    "\n",
    "df_mean_modified = to_dataframe(mean_modified_results_dict)\n",
    "df_stds_modified = to_dataframe(stds_modified_results_dict)"
   ]
  },
  {
   "cell_type": "code",
   "execution_count": null,
   "metadata": {},
   "outputs": [],
   "source": [
    "display(df_mean_original)\n",
    "display(df_mean_modified)"
   ]
  },
  {
   "cell_type": "code",
   "execution_count": null,
   "metadata": {},
   "outputs": [],
   "source": [
    "df_mean_original < df_mean_modified"
   ]
  },
  {
   "cell_type": "code",
   "execution_count": null,
   "metadata": {},
   "outputs": [],
   "source": [
    "n_qubits = 15\n",
    "eps_value = 0.05\n",
    "execution_range = 10\n",
    "\n",
    "sv_mean_original, sv_mean_modified = get_loaded_states(results_dir=results_dir, state_type=state_type, execution_range=execution_range, n_qubits=n_qubits, eps_value=eps_value)"
   ]
  },
  {
   "cell_type": "code",
   "execution_count": null,
   "metadata": {},
   "outputs": [],
   "source": [
    "target_state = get_state(num_qubits=n_qubits, state_type=state_type, state_params={\"x_points\": (0, 1), \"loc\": 0.5, \"scale\": 0.3})\n",
    "\n",
    "\n",
    "x_points = np.linspace(0, 1, 2**n_qubits)\n",
    "\n",
    "target_freqs = np.abs(target_state)**2\n",
    "\n",
    "#plt.ticklabel_format(axis=\"y\", style=\"sci\")\n",
    "fig, axes = plt.subplots(1, 2, dpi=300)\n",
    "fig.set_figheight(5)\n",
    "fig.set_figwidth(15)\n",
    "title_fontsize = 24\n",
    "labels_fontsize= 18\n",
    "ticks_fontsize = 16\n",
    "axes[0].set_title(\"ORIGINAL\", fontsize=title_fontsize)\n",
    "axes[0].plot(x_points, target_freqs, label=\"target\")\n",
    "axes[0].plot(x_points, np.abs(sv_mean_original)**2, \"--\", label=f\"output (loss: {round(df_mean_original.loc[n_qubits][eps_value], 3)} ±{round(df_stds_original.loc[n_qubits][eps_value], 2)})\")\n",
    "axes[0].grid()\n",
    "axes[0].set_xlabel(\"X\", fontsize=labels_fontsize)\n",
    "axes[0].set_ylabel(\"p(X)\", fontsize=labels_fontsize)\n",
    "axes[0].tick_params(labelsize=ticks_fontsize)\n",
    "axes[0].set_ylim([0, 0.0002])\n",
    "axes[0].ticklabel_format(axis=\"y\", style=\"sci\", scilimits=(0,0))\n",
    "axes[0].legend(loc=\"best\")\n",
    "\n",
    "axes[1].set_title(\"MODIFIED\", fontsize=title_fontsize)\n",
    "axes[1].plot(x_points, target_freqs, label=\"target\")\n",
    "axes[1].plot(x_points, np.abs(sv_mean_modified)**2, \"--\", label=f\"output (loss: {round(df_mean_modified.loc[n_qubits][eps_value], 3)} ±{round(df_stds_modified.loc[n_qubits][eps_value], 2)})\")\n",
    "axes[1].grid()\n",
    "axes[1].set_xlabel(\"X\", fontsize=labels_fontsize)\n",
    "axes[1].set_ylabel(\"p(X)\", fontsize=labels_fontsize)\n",
    "axes[1].tick_params(labelsize=ticks_fontsize)\n",
    "axes[1].set_ylim([0, 0.0002])\n",
    "axes[1].ticklabel_format(axis=\"y\", style=\"sci\", scilimits=(0,0))\n",
    "axes[1].legend(loc=\"best\")"
   ]
  },
  {
   "cell_type": "markdown",
   "metadata": {},
   "source": [
    "### $log$-Normal Distribution $(s= 1, \\mu = 0.1, \\sigma = 0.3)$"
   ]
  },
  {
   "cell_type": "code",
   "execution_count": null,
   "metadata": {},
   "outputs": [],
   "source": [
    "state_type = \"lognormal\""
   ]
  },
  {
   "cell_type": "code",
   "execution_count": null,
   "metadata": {},
   "outputs": [],
   "source": [
    "original_results_dict, modified_results_dict = load_results(results_dir, state_type, qubit_range, eps_values)\n",
    "\n",
    "mean_original_results_dict, stds_original_results_dict = compute_statistics(original_results_dict)\n",
    "mean_modified_results_dict, stds_modified_results_dict = compute_statistics(modified_results_dict)\n",
    "\n",
    "df_mean_original = to_dataframe(mean_original_results_dict)\n",
    "df_stds_original = to_dataframe(stds_modified_results_dict)\n",
    "\n",
    "df_mean_modified = to_dataframe(mean_modified_results_dict)\n",
    "df_stds_modified = to_dataframe(stds_modified_results_dict)"
   ]
  },
  {
   "cell_type": "code",
   "execution_count": null,
   "metadata": {},
   "outputs": [],
   "source": [
    "display(df_mean_original)\n",
    "display(df_mean_modified)"
   ]
  },
  {
   "cell_type": "code",
   "execution_count": null,
   "metadata": {},
   "outputs": [],
   "source": [
    "df_mean_original < df_mean_modified"
   ]
  },
  {
   "cell_type": "code",
   "execution_count": null,
   "metadata": {},
   "outputs": [],
   "source": [
    "n_qubits = 15\n",
    "eps_value = 0.01\n",
    "execution_range = 10\n",
    "\n",
    "sv_mean_original, sv_mean_modified = get_loaded_states(results_dir=results_dir, state_type=state_type, execution_range=execution_range, n_qubits=n_qubits, eps_value=eps_value)"
   ]
  },
  {
   "cell_type": "code",
   "execution_count": null,
   "metadata": {},
   "outputs": [],
   "source": [
    "target_state = get_state(num_qubits=n_qubits, state_type=state_type, state_params={\"x_points\": (0, 1), \"s\": 1, \"loc\": 0.1, \"scale\": 0.3})\n",
    "\n",
    "\n",
    "x_points = np.linspace(0, 1, 2**n_qubits)\n",
    "\n",
    "\n",
    "target_freqs = np.abs(target_state)**2\n",
    "\n",
    "#plt.ticklabel_format(axis=\"y\", style=\"sci\")\n",
    "fig, axes = plt.subplots(1, 2, dpi=300)\n",
    "fig.set_figheight(5)\n",
    "fig.set_figwidth(15)\n",
    "title_fontsize = 24\n",
    "labels_fontsize= 18\n",
    "ticks_fontsize = 16\n",
    "axes[0].set_title(\"ORIGINAL\", fontsize=title_fontsize)\n",
    "axes[0].plot(x_points, target_freqs, label=\"target\")\n",
    "axes[0].plot(x_points, np.abs(sv_mean_original)**2, \"--\", label=f\"output (loss: {round(df_mean_original.loc[n_qubits][eps_value], 3)} ±{round(df_stds_original.loc[n_qubits][eps_value], 2)})\")\n",
    "axes[0].grid()\n",
    "axes[0].set_xlabel(\"X\", fontsize=labels_fontsize)\n",
    "axes[0].set_ylabel(\"p(X)\", fontsize=labels_fontsize)\n",
    "axes[0].tick_params(labelsize=ticks_fontsize)\n",
    "#axes[0].set_ylim([0, 0.0002])\n",
    "axes[0].ticklabel_format(axis=\"y\", style=\"sci\", scilimits=(0,0))\n",
    "axes[0].legend(loc=\"best\")\n",
    "\n",
    "axes[1].set_title(\"MODIFIED\", fontsize=title_fontsize)\n",
    "axes[1].plot(x_points, target_freqs, label=\"target\")\n",
    "axes[1].plot(x_points, np.abs(sv_mean_modified)**2, \"--\", label=f\"output (loss: {round(df_mean_modified.loc[n_qubits][eps_value], 3)} ±{round(df_stds_modified.loc[n_qubits][eps_value], 2)})\")\n",
    "axes[1].grid()\n",
    "axes[1].set_xlabel(\"X\", fontsize=labels_fontsize)\n",
    "axes[1].set_ylabel(\"p(X)\", fontsize=labels_fontsize)\n",
    "axes[1].tick_params(labelsize=ticks_fontsize)\n",
    "#axes[1].set_ylim([0, 0.0002])\n",
    "axes[1].ticklabel_format(axis=\"y\", style=\"sci\", scilimits=(0,0))\n",
    "axes[1].legend(loc=\"best\")"
   ]
  },
  {
   "cell_type": "markdown",
   "metadata": {},
   "source": [
    "### Bimodal Distribution $(\\mu_1 = 0.25, \\sigma_1 = 0.1; \\mu_2 = 0.75, \\sigma_2 = 0.15)$"
   ]
  },
  {
   "cell_type": "code",
   "execution_count": null,
   "metadata": {},
   "outputs": [],
   "source": [
    "state_type = \"bimodal\""
   ]
  },
  {
   "cell_type": "code",
   "execution_count": null,
   "metadata": {},
   "outputs": [],
   "source": [
    "original_results_dict, modified_results_dict = load_results(results_dir, state_type, qubit_range, eps_values)\n",
    "\n",
    "mean_original_results_dict, stds_original_results_dict = compute_statistics(original_results_dict)\n",
    "mean_modified_results_dict, stds_modified_results_dict = compute_statistics(modified_results_dict)\n",
    "\n",
    "df_mean_original = to_dataframe(mean_original_results_dict)\n",
    "df_stds_original = to_dataframe(stds_modified_results_dict)\n",
    "\n",
    "df_mean_modified = to_dataframe(mean_modified_results_dict)\n",
    "df_stds_modified = to_dataframe(stds_modified_results_dict)"
   ]
  },
  {
   "cell_type": "code",
   "execution_count": null,
   "metadata": {},
   "outputs": [],
   "source": [
    "display(df_mean_original)\n",
    "display(df_mean_modified)"
   ]
  },
  {
   "cell_type": "code",
   "execution_count": null,
   "metadata": {},
   "outputs": [],
   "source": [
    "display(df_stds_original)\n",
    "display(df_stds_modified)"
   ]
  },
  {
   "cell_type": "code",
   "execution_count": null,
   "metadata": {},
   "outputs": [],
   "source": [
    "df_mean_original < df_mean_modified"
   ]
  },
  {
   "cell_type": "code",
   "execution_count": null,
   "metadata": {},
   "outputs": [],
   "source": [
    "n_qubits = 15\n",
    "eps_value = 0.01\n",
    "execution_range = 10\n",
    "\n",
    "sv_mean_original, sv_mean_modified = get_loaded_states(results_dir=results_dir, state_type=state_type, execution_range=execution_range, n_qubits=n_qubits, eps_value=eps_value)"
   ]
  },
  {
   "cell_type": "code",
   "execution_count": null,
   "metadata": {},
   "outputs": [],
   "source": [
    "target_state = get_state(num_qubits=n_qubits, state_type=state_type, state_params={\"x_points\": (0, 1), \"loc_bim1\": 0.25, \"scale_bim1\": 0.1, \"loc_bim2\": 0.75, \"scale_bim2\": 0.15})\n",
    "\n",
    "\n",
    "x_points = np.linspace(0, 1, 2**n_qubits)\n",
    "\n",
    "target_freqs = np.abs(target_state)**2\n",
    "\n",
    "#plt.ticklabel_format(axis=\"y\", style=\"sci\")\n",
    "fig, axes = plt.subplots(1, 2, dpi=300)\n",
    "fig.set_figheight(5)\n",
    "fig.set_figwidth(15)\n",
    "title_fontsize = 24\n",
    "labels_fontsize= 18\n",
    "ticks_fontsize = 16\n",
    "axes[0].set_title(\"ORIGINAL\", fontsize=title_fontsize)\n",
    "axes[0].plot(x_points, target_freqs, label=\"target\")\n",
    "axes[0].plot(x_points, np.abs(sv_mean_original)**2, \"--\", label=f\"output (loss: {round(df_mean_original.loc[n_qubits][eps_value], 3)} ±{round(df_stds_original.loc[n_qubits][eps_value], 2)})\")\n",
    "axes[0].grid()\n",
    "axes[0].set_xlabel(\"X\", fontsize=labels_fontsize)\n",
    "axes[0].set_ylabel(\"p(X)\", fontsize=labels_fontsize)\n",
    "axes[0].tick_params(labelsize=ticks_fontsize)\n",
    "#axes[0].set_ylim([0, 0.0002])\n",
    "axes[0].ticklabel_format(axis=\"y\", style=\"sci\", scilimits=(0,0))\n",
    "axes[0].legend(loc=\"best\")\n",
    "\n",
    "axes[1].set_title(\"MODIFIED\", fontsize=title_fontsize)\n",
    "axes[1].plot(x_points, target_freqs, label=\"target\")\n",
    "axes[1].plot(x_points, np.abs(sv_mean_modified)**2, \"--\", label=f\"output (loss: {round(df_mean_modified.loc[n_qubits][eps_value], 3)} ±{round(df_stds_modified.loc[n_qubits][eps_value], 2)})\")\n",
    "axes[1].grid()\n",
    "axes[1].set_xlabel(\"X\", fontsize=labels_fontsize)\n",
    "axes[1].set_ylabel(\"p(X)\", fontsize=labels_fontsize)\n",
    "axes[1].tick_params(labelsize=ticks_fontsize)\n",
    "#axes[1].set_ylim([0, 0.0002])\n",
    "axes[1].ticklabel_format(axis=\"y\", style=\"sci\", scilimits=(0,0))\n",
    "axes[1].legend(loc=\"best\")"
   ]
  },
  {
   "cell_type": "markdown",
   "metadata": {},
   "source": [
    "### Laplace $(\\mu = 0.5, \\sigma = 0.2)$"
   ]
  },
  {
   "cell_type": "code",
   "execution_count": null,
   "metadata": {},
   "outputs": [],
   "source": [
    "state_type = \"laplace\""
   ]
  },
  {
   "cell_type": "code",
   "execution_count": null,
   "metadata": {},
   "outputs": [],
   "source": [
    "original_results_dict, modified_results_dict = load_results(results_dir, state_type, qubit_range, eps_values)\n",
    "\n",
    "mean_original_results_dict, stds_original_results_dict = compute_statistics(original_results_dict)\n",
    "mean_modified_results_dict, stds_modified_results_dict = compute_statistics(modified_results_dict)\n",
    "\n",
    "df_mean_original = to_dataframe(mean_original_results_dict)\n",
    "df_stds_original = to_dataframe(stds_modified_results_dict)\n",
    "\n",
    "df_mean_modified = to_dataframe(mean_modified_results_dict)\n",
    "df_stds_modified = to_dataframe(stds_modified_results_dict)"
   ]
  },
  {
   "cell_type": "code",
   "execution_count": null,
   "metadata": {},
   "outputs": [],
   "source": [
    "display(df_mean_original)\n",
    "display(df_mean_modified)"
   ]
  },
  {
   "cell_type": "code",
   "execution_count": null,
   "metadata": {},
   "outputs": [],
   "source": [
    "df_mean_original < df_mean_modified"
   ]
  },
  {
   "cell_type": "code",
   "execution_count": null,
   "metadata": {},
   "outputs": [],
   "source": [
    "n_qubits = 15\n",
    "eps_value = 0.01\n",
    "execution_range = 10\n",
    "\n",
    "sv_mean_original, sv_mean_modified = get_loaded_states(results_dir=results_dir, state_type=state_type, execution_range=execution_range, n_qubits=n_qubits, eps_value=eps_value)"
   ]
  },
  {
   "cell_type": "code",
   "execution_count": null,
   "metadata": {},
   "outputs": [],
   "source": [
    "target_state = get_state(num_qubits=n_qubits, state_type=state_type, state_params={\"x_points\": (0, 1), \"loc\": 0.5, \"scale\": 0.2})\n",
    "\n",
    "\n",
    "x_points = np.linspace(0, 1, 2**n_qubits)\n",
    "\n",
    "target_freqs = np.abs(target_state)**2\n",
    "\n",
    "#plt.ticklabel_format(axis=\"y\", style=\"sci\")\n",
    "fig, axes = plt.subplots(1, 2, dpi=300)\n",
    "fig.set_figheight(5)\n",
    "fig.set_figwidth(15)\n",
    "title_fontsize = 24\n",
    "labels_fontsize= 18\n",
    "ticks_fontsize = 16\n",
    "axes[0].set_title(\"ORIGINAL\", fontsize=title_fontsize)\n",
    "axes[0].plot(x_points, target_freqs, label=\"target\")\n",
    "axes[0].plot(x_points, np.abs(sv_mean_original)**2, \"--\", label=f\"output (loss: {round(df_mean_original.loc[n_qubits][eps_value], 3)} ±{round(df_stds_original.loc[n_qubits][eps_value], 2)})\")\n",
    "axes[0].grid()\n",
    "axes[0].set_xlabel(\"X\", fontsize=labels_fontsize)\n",
    "axes[0].set_ylabel(\"p(X)\", fontsize=labels_fontsize)\n",
    "axes[0].tick_params(labelsize=ticks_fontsize)\n",
    "axes[0].set_ylim([0, 0.0002])\n",
    "axes[0].ticklabel_format(axis=\"y\", style=\"sci\", scilimits=(0,0))\n",
    "axes[0].legend(loc=\"best\")\n",
    "\n",
    "axes[1].set_title(\"MODIFIED\", fontsize=title_fontsize)\n",
    "axes[1].plot(x_points, target_freqs, label=\"target\")\n",
    "axes[1].plot(x_points, np.abs(sv_mean_modified)**2, \"--\", label=f\"output (loss: {round(df_mean_modified.loc[n_qubits][eps_value], 3)} ±{round(df_stds_modified.loc[n_qubits][eps_value], 2)})\")\n",
    "axes[1].grid()\n",
    "axes[1].set_xlabel(\"X\", fontsize=labels_fontsize)\n",
    "axes[1].set_ylabel(\"p(X)\", fontsize=labels_fontsize)\n",
    "axes[1].tick_params(labelsize=ticks_fontsize)\n",
    "axes[1].set_ylim([0, 0.0002])\n",
    "axes[1].ticklabel_format(axis=\"y\", style=\"sci\", scilimits=(0,0))\n",
    "axes[1].legend(loc=\"best\")"
   ]
  }
 ],
 "metadata": {
  "kernelspec": {
   "display_name": "Sanchez (Env)",
   "language": "python",
   "name": "sanchez-enf"
  },
  "language_info": {
   "codemirror_mode": {
    "name": "ipython",
    "version": 3
   },
   "file_extension": ".py",
   "mimetype": "text/x-python",
   "name": "python",
   "nbconvert_exporter": "python",
   "pygments_lexer": "ipython3",
   "version": "3.9.0"
  }
 },
 "nbformat": 4,
 "nbformat_minor": 2
}
